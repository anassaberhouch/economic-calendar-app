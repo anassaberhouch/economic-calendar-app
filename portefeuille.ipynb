{
 "cells": [
  {
   "cell_type": "code",
   "execution_count": 1,
   "metadata": {},
   "outputs": [],
   "source": [
    "from scipy.optimize import minimize,Bounds\n",
    "from numpy.linalg import norm \n",
    "import numpy as np\n",
    "from datetime import timedelta\n",
    "from dateutil.relativedelta import relativedelta\n",
    "from dateutil.parser import parse "
   ]
  },
  {
   "cell_type": "code",
   "execution_count": 2,
   "metadata": {},
   "outputs": [],
   "source": [
    "def mean_ret(data):\n",
    "    return data.mean()"
   ]
  },
  {
   "cell_type": "code",
   "execution_count": 3,
   "metadata": {},
   "outputs": [],
   "source": [
    "def monthdelta(date, delta):\n",
    "    new_date= date + relativedelta(months=delta)\n",
    "    return new_date"
   ]
  },
  {
   "cell_type": "code",
   "execution_count": 4,
   "metadata": {},
   "outputs": [],
   "source": [
    "def windowGenerator(dataframe, lookback, horizon, step, cumulative=False):\n",
    "    initial = dataframe.index.min()\n",
    "    windows=[]\n",
    "    horizons=[]\n",
    "\n",
    "    while initial <= monthdelta(dataframe.index.max(), -lookback ):\n",
    "        windowEnd = monthdelta(initial, lookback)\n",
    "        horizonStart = windowEnd + timedelta(days=1)\n",
    "        horizonEnd = monthdelta(horizonStart, horizon)\n",
    "\n",
    "        lookbackWindow = dataframe.loc[initial:windowEnd]\n",
    "        horizonWindow = dataframe.loc[horizonStart:horizonEnd]\n",
    "\n",
    "        windows.append(lookbackWindow)\n",
    "        horizons.append(horizonWindow)\n",
    "\n",
    "        if cumulative:\n",
    "            step = horizon \n",
    "        initial =monthdelta(initial, step)\n",
    "\n",
    "    return windows,horizons"
   ]
  },
  {
   "cell_type": "code",
   "execution_count": 5,
   "metadata": {},
   "outputs": [],
   "source": [
    "def actual_return(actual_ret, weight):\n",
    "    mean_return= mean_ret(actual_ret)\n",
    "    actual_cov = actual_ret.cov()\n",
    "\n",
    "    portfolio_return = mean_return.T.dot(weight)\n",
    "    portfolio_cov = weight.T.dot(actual_cov).dot(weight)\n",
    "    return portfolio_return, portfolio_cov"
   ]
  },
  {
   "cell_type": "code",
   "execution_count": 6,
   "metadata": {},
   "outputs": [],
   "source": [
    "def optimization(predicted_ret,actual_ret, lam1, lam2):\n",
    "    mean_return=mean_ret(predicted_ret)\n",
    "    predicted_covariance= predicted_ret.cov()\n",
    "\n",
    "    def cost_fct(weight):\n",
    "        return -(weight.T.dot(mean_return) - lam1*(weight.T.dot(weight))- lam2*norm(weight,1))\n",
    "    \n",
    "    opt_bounds = Bounds(0,np.ones(predicted_ret.shape[1]))\n",
    "\n",
    "    cons = {'type':'eq','fun': lambda weight: np.sum(weight) - 1}\n",
    "\n",
    "    sol= minimize(cost_fct, x0=np.ones(predicted_ret.shape[1]/predicted_ret.shape[1],method='SLSQP',constraints=cons,bounds=opt_bounds))\n",
    "\n",
    "    weight=sol.x\n",
    "    predicted_portfolio_ret=weight.dot(mean_return)\n",
    "    portfolio_STD = weight.T.dot(predicted_covariance).dot(weight)\n",
    "    \n",
    "    portfolio_actual_returns, portfolio_actual_variance = actual_return(actual_ret, weight)\n",
    "    sharpe_ratio = portfolio_actual_returns / np.sqrt(portfolio_actual_variance)\n",
    "\n",
    "    return{\n",
    "        'weights':weight,\n",
    "        'predicted returns':predicted_portfolio_ret,\n",
    "        'predicted variance':portfolio_STD,\n",
    "        'actual returns':portfolio_actual_returns,\n",
    "        'actual variance':portfolio_actual_variance,\n",
    "        'sharpe ratio':sharpe_ratio\n",
    "\n",
    "    }"
   ]
  }
 ],
 "metadata": {
  "kernelspec": {
   "display_name": ".venv",
   "language": "python",
   "name": "python3"
  },
  "language_info": {
   "codemirror_mode": {
    "name": "ipython",
    "version": 3
   },
   "file_extension": ".py",
   "mimetype": "text/x-python",
   "name": "python",
   "nbconvert_exporter": "python",
   "pygments_lexer": "ipython3",
   "version": "3.10.2"
  }
 },
 "nbformat": 4,
 "nbformat_minor": 2
}
